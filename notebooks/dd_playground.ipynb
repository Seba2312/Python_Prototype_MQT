{
 "cells": [
  {
   "cell_type": "code",
   "execution_count": 1,
   "id": "ce2e1221",
   "metadata": {
    "ExecuteTime": {
     "end_time": "2025-07-03T21:58:21.534927200Z",
     "start_time": "2025-07-03T21:58:21.497227700Z"
    }
   },
   "outputs": [
    {
     "data": {
      "application/vnd.jupyter.widget-view+json": {
       "model_id": "57e54a22da3549429309977824980f20",
       "version_major": 2,
       "version_minor": 0
      },
      "text/plain": [
       "Dropdown(description='Circuit:', options=('Bell', 'GHZ_state', 'grover', 'Quantum_Fourier_Transform', 'Quantum…"
      ]
     },
     "metadata": {},
     "output_type": "display_data"
    },
    {
     "data": {
      "application/vnd.jupyter.widget-view+json": {
       "model_id": "9c46e84d8d80483e97c2db244c23e613",
       "version_major": 2,
       "version_minor": 0
      },
      "text/plain": [
       "FileUpload(value=(), accept='.qasm', description='Upload')"
      ]
     },
     "metadata": {},
     "output_type": "display_data"
    },
    {
     "data": {
      "application/vnd.jupyter.widget-view+json": {
       "model_id": "6f82a20ce01745f7ab957c0a216482fb",
       "version_major": 2,
       "version_minor": 0
      },
      "text/plain": [
       "Button(description='🔄 Reload file list', style=ButtonStyle())"
      ]
     },
     "metadata": {},
     "output_type": "display_data"
    }
   ],
   "source": [
    "%matplotlib inline\n",
    "\n",
    "from pathlib import Path\n",
    "import ipywidgets as widgets\n",
    "from dd_playground import simulator, comparison       # your wrapper\n",
    "from dd_playground.reference_comparison import run_statevector\n",
    "\n",
    "# ---------- locate “circuits” ------------------------------\n",
    "SEARCH_PATHS = [Path.cwd() / \"circuits\", Path.cwd().parent / \"circuits\"]\n",
    "EXAMPLE_DIR = next((d for d in SEARCH_PATHS if d.is_dir()), None)\n",
    "\n",
    "if EXAMPLE_DIR is None:\n",
    "    print(\"⚠  folder 'circuits' not found – widget list stays empty\")\n",
    "    example_files = {}\n",
    "else:\n",
    "    example_files = {p.stem: str(p) for p in EXAMPLE_DIR.glob(\"*.qasm\")}\n",
    "    if not example_files:\n",
    "        print(f\"⚠  {EXAMPLE_DIR} contains no *.qasm files\")\n",
    "\n",
    "# ---------- build widgets (only once) ----------------------\n",
    "dropdown = widgets.Dropdown(\n",
    "    options=list(example_files.keys()),\n",
    "    value=next(iter(example_files)) if example_files else None,\n",
    "    description=\"Circuit:\"\n",
    ")\n",
    "upload   = widgets.FileUpload(accept=\".qasm\", multiple=False)\n",
    "display(dropdown, upload)\n",
    "\n",
    "# ---------- reload function & button ----------------------\n",
    "def refresh_example_files(*_):\n",
    "    \"\"\"rescan directory and update dropdown options\"\"\"\n",
    "    global example_files\n",
    "    example_files = {p.stem: str(p) for p in EXAMPLE_DIR.glob(\"*.qasm\")}\n",
    "    dropdown.options = list(example_files.keys())\n",
    "    if dropdown.value not in dropdown.options:\n",
    "        # keep current selection if still valid, otherwise choose first\n",
    "        dropdown.value = dropdown.options[0] if dropdown.options else None\n",
    "\n",
    "reload_btn = widgets.Button(description=\"🔄 Reload file list\")\n",
    "reload_btn.on_click(refresh_example_files)\n",
    "display(reload_btn)\n"
   ]
  },
  {
   "cell_type": "code",
   "execution_count": 2,
   "id": "c21d1cae",
   "metadata": {
    "ExecuteTime": {
     "end_time": "2025-07-03T21:58:23.331324600Z",
     "start_time": "2025-07-03T21:58:23.242859200Z"
    }
   },
   "outputs": [
    {
     "data": {
      "text/html": [
       "<div>\n",
       "<style scoped>\n",
       "    .dataframe tbody tr th:only-of-type {\n",
       "        vertical-align: middle;\n",
       "    }\n",
       "\n",
       "    .dataframe tbody tr th {\n",
       "        vertical-align: top;\n",
       "    }\n",
       "\n",
       "    .dataframe thead th {\n",
       "        text-align: right;\n",
       "    }\n",
       "</style>\n",
       "<table border=\"1\" class=\"dataframe\">\n",
       "  <thead>\n",
       "    <tr style=\"text-align: right;\">\n",
       "      <th></th>\n",
       "      <th>nodes</th>\n",
       "      <th>edges</th>\n",
       "      <th>gate</th>\n",
       "      <th>runtime_ms</th>\n",
       "      <th>ram_MB</th>\n",
       "      <th>peak_MB</th>\n",
       "      <th>fidelity</th>\n",
       "      <th>impl</th>\n",
       "      <th>gate_idx</th>\n",
       "    </tr>\n",
       "  </thead>\n",
       "  <tbody>\n",
       "    <tr>\n",
       "      <th>0</th>\n",
       "      <td>3</td>\n",
       "      <td>6</td>\n",
       "      <td>StandardOperation(target=0, op_type=h)</td>\n",
       "      <td>0.4678</td>\n",
       "      <td>198.843750</td>\n",
       "      <td>198.843750</td>\n",
       "      <td>0.25</td>\n",
       "      <td>DecisionDiagram</td>\n",
       "      <td>0</td>\n",
       "    </tr>\n",
       "    <tr>\n",
       "      <th>1</th>\n",
       "      <td>4</td>\n",
       "      <td>8</td>\n",
       "      <td>StandardOperation(control=Control(qubit=0, typ...</td>\n",
       "      <td>0.0229</td>\n",
       "      <td>198.953125</td>\n",
       "      <td>198.953125</td>\n",
       "      <td>0.5</td>\n",
       "      <td>DecisionDiagram</td>\n",
       "      <td>1</td>\n",
       "    </tr>\n",
       "    <tr>\n",
       "      <th>2</th>\n",
       "      <td>4</td>\n",
       "      <td>4</td>\n",
       "      <td>StandardOperation(target=0, op_type=h)</td>\n",
       "      <td>0.0109</td>\n",
       "      <td>208.740352</td>\n",
       "      <td>208.740352</td>\n",
       "      <td>1.0, as compared with itself</td>\n",
       "      <td>StateVector</td>\n",
       "      <td>0</td>\n",
       "    </tr>\n",
       "    <tr>\n",
       "      <th>3</th>\n",
       "      <td>4</td>\n",
       "      <td>4</td>\n",
       "      <td>StandardOperation(control=Control(qubit=0, typ...</td>\n",
       "      <td>0.0037</td>\n",
       "      <td>208.744448</td>\n",
       "      <td>208.744448</td>\n",
       "      <td>1.0, as compared with itself</td>\n",
       "      <td>StateVector</td>\n",
       "      <td>1</td>\n",
       "    </tr>\n",
       "  </tbody>\n",
       "</table>\n",
       "</div>"
      ],
      "text/plain": [
       "   nodes  edges                                               gate  \\\n",
       "0      3      6             StandardOperation(target=0, op_type=h)   \n",
       "1      4      8  StandardOperation(control=Control(qubit=0, typ...   \n",
       "2      4      4             StandardOperation(target=0, op_type=h)   \n",
       "3      4      4  StandardOperation(control=Control(qubit=0, typ...   \n",
       "\n",
       "   runtime_ms      ram_MB     peak_MB                      fidelity  \\\n",
       "0      0.4678  198.843750  198.843750                          0.25   \n",
       "1      0.0229  198.953125  198.953125                           0.5   \n",
       "2      0.0109  208.740352  208.740352  1.0, as compared with itself   \n",
       "3      0.0037  208.744448  208.744448  1.0, as compared with itself   \n",
       "\n",
       "              impl  gate_idx  \n",
       "0  DecisionDiagram         0  \n",
       "1  DecisionDiagram         1  \n",
       "2      StateVector         0  \n",
       "3      StateVector         1  "
      ]
     },
     "metadata": {},
     "output_type": "display_data"
    },
    {
     "data": {
      "image/png": "[encoded data removed]",
      "text/plain": [
       "<Figure size 640x480 with 1 Axes>"
      ]
     },
     "metadata": {},
     "output_type": "display_data"
    },
    {
     "data": {
      "image/png": "[encoded data removed]",
      "text/plain": [
       "<Figure size 800x800 with 2 Axes>"
      ]
     },
     "metadata": {},
     "output_type": "display_data"
    }
   ],
   "source": [
    "# pick file: uploaded version overrides dropdown\n",
    "if upload.value:\n",
    "    meta  = next(iter(upload.value.values()))\n",
    "    path  = meta['metadata']['name']\n",
    "    with open(path, 'wb') as f:\n",
    "        f.write(meta['content'])\n",
    "else:\n",
    "    path = example_files[dropdown.value]\n",
    "\n",
    "# simulate\n",
    "stats, final_state = simulator.run_circuit(\n",
    "    path,\n",
    "    log_path='log',\n",
    ")\n",
    "\n",
    "# reference implementation\n",
    "stats_sv, _ = comparison.run_statevector(path)\n",
    "df_all = comparison.compare_logs(stats, stats_sv)\n",
    "display(df_all)\n",
    "comparison.plot_node_bars(df_all)\n",
    "\n",
    "import matplotlib.pyplot as plt\n",
    "\n",
    "# DataFrame erwartet Spalten: 'gate_idx', 'impl', 'ram_MB', 'runtime_ms'\n",
    "pivot_ram   = df_all.pivot(index='gate_idx', columns='impl', values='ram_MB')\n",
    "pivot_time  = df_all.pivot(index='gate_idx', columns='impl', values='runtime_ms')\n",
    "\n",
    "fig, axes = plt.subplots(2, 1, figsize=(8, 8), sharex=True)\n",
    "\n",
    "pivot_ram.plot(kind='bar', ax=axes[0])\n",
    "axes[0].set_title('Peak RAM after each gate')\n",
    "axes[0].set_ylabel('MiB')\n",
    "\n",
    "pivot_time.plot(kind='bar', ax=axes[1])\n",
    "axes[1].set_title('Gate runtime')\n",
    "axes[1].set_ylabel('ms')\n",
    "axes[1].set_xlabel('gate index')\n",
    "\n",
    "fig.tight_layout()\n",
    "plt.show()\n"
   ]
  },
  {
   "cell_type": "markdown",
   "id": "446d0f6e-9c6e-45c8-810d-a2292a057e90",
   "metadata": {},
   "source": [
    "### "
   ]
  },
  {
   "cell_type": "markdown",
   "id": "fb0fd986",
   "metadata": {},
   "source": [
    "### Student Playground\n",
    "Feel free to modify the functions in `simulator.py` and observe the effects."
   ]
  },
  {
   "cell_type": "code",
   "execution_count": null,
   "id": "fc7bd172-6868-4734-9cf7-2a51c8a176a5",
   "metadata": {},
   "outputs": [],
   "source": []
  },
  {
   "cell_type": "code",
   "execution_count": null,
   "id": "0ed01b99-9063-4ad6-bd43-5a72d14b25b6",
   "metadata": {},
   "outputs": [],
   "source": []
  }
 ],
 "metadata": {
  "kernelspec": {
   "display_name": "Python (dd-playground)",
   "language": "python",
   "name": "dd-playground"
  },
  "language_info": {
   "codemirror_mode": {
    "name": "ipython",
    "version": 3
   },
   "file_extension": ".py",
   "mimetype": "text/x-python",
   "name": "python",
   "nbconvert_exporter": "python",
   "pygments_lexer": "ipython3",
   "version": "3.11.9"
  }
 },
 "nbformat": 4,
 "nbformat_minor": 5
}
